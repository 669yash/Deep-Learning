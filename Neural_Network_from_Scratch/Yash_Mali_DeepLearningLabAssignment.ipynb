{
  "nbformat": 4,
  "nbformat_minor": 0,
  "metadata": {
    "colab": {
      "provenance": []
    },
    "kernelspec": {
      "name": "python3",
      "display_name": "Python 3"
    },
    "language_info": {
      "name": "python"
    }
  },
  "cells": [
    {
      "cell_type": "code",
      "execution_count": 1,
      "metadata": {
        "colab": {
          "base_uri": "https://localhost:8080/"
        },
        "id": "foX-7G9fJUES",
        "outputId": "19dc8b61-ec62-4bb4-c5d8-6a5472f9f778"
      },
      "outputs": [
        {
          "output_type": "stream",
          "name": "stdout",
          "text": [
            "Epoch 0, Loss: 0.2500\n",
            "Epoch 100, Loss: 0.2500\n",
            "Epoch 200, Loss: 0.2500\n",
            "Epoch 300, Loss: 0.2500\n",
            "Epoch 400, Loss: 0.2500\n",
            "Epoch 500, Loss: 0.2500\n",
            "Epoch 600, Loss: 0.2500\n",
            "Epoch 700, Loss: 0.2500\n",
            "Epoch 800, Loss: 0.2500\n",
            "Epoch 900, Loss: 0.2500\n",
            "Final predictions:\n",
            "[[0.50000605]\n",
            " [0.49998945]\n",
            " [0.50001055]\n",
            " [0.49999395]]\n"
          ]
        }
      ],
      "source": [
        "import numpy as np\n",
        "\n",
        "class FeedforwardNeuralNetwork:\n",
        "    def __init__(self, input_size, hidden_size, output_size, learning_rate):\n",
        "        # Initialize weights and biases\n",
        "        self.weights_input_hidden = np.random.randn(input_size, hidden_size) * 0.01\n",
        "        self.bias_hidden = np.zeros((1, hidden_size))\n",
        "        self.weights_hidden_output = np.random.randn(hidden_size, output_size) * 0.01\n",
        "        self.bias_output = np.zeros((1, output_size))\n",
        "        self.learning_rate = learning_rate\n",
        "\n",
        "    def sigmoid(self, x):\n",
        "        return 1 / (1 + np.exp(-x))\n",
        "\n",
        "    def sigmoid_derivative(self, x):\n",
        "        return x * (1 - x)\n",
        "\n",
        "    def forward_pass(self, X):\n",
        "        # Compute activations for the hidden layer\n",
        "        self.hidden_input = np.dot(X, self.weights_input_hidden) + self.bias_hidden\n",
        "        self.hidden_output = self.sigmoid(self.hidden_input)\n",
        "\n",
        "        # Compute activations for the output layer\n",
        "        self.output_input = np.dot(self.hidden_output, self.weights_hidden_output) + self.bias_output\n",
        "        self.output = self.sigmoid(self.output_input)\n",
        "\n",
        "        return self.output\n",
        "\n",
        "    def backward_pass(self, X, y):\n",
        "        # Calculate error at the output layer\n",
        "        output_error = self.output - y\n",
        "        output_gradient = output_error * self.sigmoid_derivative(self.output)\n",
        "\n",
        "        # Calculate error at the hidden layer\n",
        "        hidden_error = np.dot(output_gradient, self.weights_hidden_output.T)\n",
        "        hidden_gradient = hidden_error * self.sigmoid_derivative(self.hidden_output)\n",
        "\n",
        "        # Update weights and biases\n",
        "        self.weights_hidden_output -= self.learning_rate * np.dot(self.hidden_output.T, output_gradient)\n",
        "        self.bias_output -= self.learning_rate * np.sum(output_gradient, axis=0, keepdims=True)\n",
        "\n",
        "        self.weights_input_hidden -= self.learning_rate * np.dot(X.T, hidden_gradient)\n",
        "        self.bias_hidden -= self.learning_rate * np.sum(hidden_gradient, axis=0, keepdims=True)\n",
        "\n",
        "    def train(self, X, y, epochs):\n",
        "        for epoch in range(epochs):\n",
        "            # Forward pass\n",
        "            self.forward_pass(X)\n",
        "\n",
        "            # Backward pass\n",
        "            self.backward_pass(X, y)\n",
        "\n",
        "            # Compute and display loss every 100 epochs\n",
        "            if epoch % 100 == 0:\n",
        "                loss = np.mean((self.output - y) ** 2)\n",
        "                print(f\"Epoch {epoch}, Loss: {loss:.4f}\")\n",
        "\n",
        "# Example usage\n",
        "if __name__ == \"__main__\":\n",
        "    # Sample dataset (XOR problem)\n",
        "    X = np.array([[0, 0], [0, 1], [1, 0], [1, 1]])\n",
        "    y = np.array([[0], [1], [1], [0]])\n",
        "\n",
        "    # Initialize and train the neural network\n",
        "    nn = FeedforwardNeuralNetwork(input_size=2, hidden_size=4, output_size=1, learning_rate=0.1)\n",
        "    nn.train(X, y, epochs=1000)\n",
        "\n",
        "    # Test the trained network\n",
        "    print(\"Final predictions:\")\n",
        "    print(nn.forward_pass(X))"
      ]
    }
  ]
}